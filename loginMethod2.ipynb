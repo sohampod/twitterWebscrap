{
 "cells": [
  {
   "cell_type": "markdown",
   "id": "df3eb4d9",
   "metadata": {},
   "source": [
    "# Twitter Scrapper"
   ]
  },
  {
   "cell_type": "code",
   "execution_count": 1,
   "id": "70bcdb66",
   "metadata": {},
   "outputs": [],
   "source": [
    "import csv\n",
    "from getpass import getpass\n",
    "from time import sleep\n",
    "from selenium.webdriver.common.keys import Keys\n",
    "from selenium.common.exceptions import NoSuchElementException\n",
    "from msedge.selenium_tools import Edge, EdgeOptions"
   ]
  },
  {
   "cell_type": "code",
   "execution_count": 6,
   "id": "08d77ec7",
   "metadata": {},
   "outputs": [],
   "source": [
    "options = EdgeOptions()\n",
    "options.use_chromium = True\n",
    "driver = Edge(options=options)"
   ]
  },
  {
   "cell_type": "code",
   "execution_count": 7,
   "id": "8c0d43c7",
   "metadata": {},
   "outputs": [],
   "source": [
    "driver.get('https://twitter.com/login')"
   ]
  },
  {
   "cell_type": "code",
   "execution_count": 8,
   "id": "feefc9b9",
   "metadata": {},
   "outputs": [],
   "source": [
    "name = ''\n",
    "username = driver.find_element_by_xpath('//input[@name=\"username\"]')\n",
    "username.send_keys(name)"
   ]
  },
  {
   "cell_type": "code",
   "execution_count": 9,
   "id": "bce05470",
   "metadata": {},
   "outputs": [],
   "source": [
    "username.send_keys(Keys.RETURN)"
   ]
  },
  {
   "cell_type": "code",
   "execution_count": 10,
   "id": "95f1a1eb",
   "metadata": {},
   "outputs": [
    {
     "name": "stdout",
     "output_type": "stream",
     "text": [
      "········\n"
     ]
    }
   ],
   "source": [
    "mp_pw = getpass()"
   ]
  },
  {
   "cell_type": "code",
   "execution_count": 11,
   "id": "cb6a3868",
   "metadata": {},
   "outputs": [],
   "source": [
    "password = driver.find_element_by_xpath('//input[@name=\"password\"]')\n",
    "password.send_keys(mp_pw)"
   ]
  },
  {
   "cell_type": "code",
   "execution_count": 12,
   "id": "20b5a472",
   "metadata": {},
   "outputs": [],
   "source": [
    "password.send_keys(Keys.RETURN)"
   ]
  },
  {
   "cell_type": "code",
   "execution_count": 17,
   "id": "51bd0e1c",
   "metadata": {},
   "outputs": [
    {
     "name": "stdout",
     "output_type": "stream",
     "text": [
      "········\n"
     ]
    }
   ],
   "source": [
    "twoFA = getpass()"
   ]
  },
  {
   "cell_type": "code",
   "execution_count": 18,
   "id": "8ef240cc",
   "metadata": {},
   "outputs": [],
   "source": [
    "vcode = driver.find_element_by_xpath('//input[@name=\"text\"]')\n",
    "vcode.send_keys(twoFA)"
   ]
  },
  {
   "cell_type": "code",
   "execution_count": 19,
   "id": "f5db1cd2",
   "metadata": {},
   "outputs": [],
   "source": [
    "vcode.send_keys(Keys.RETURN)"
   ]
  },
  {
   "cell_type": "code",
   "execution_count": 20,
   "id": "5e3466e3",
   "metadata": {},
   "outputs": [],
   "source": [
    "search_input = driver.find_element_by_xpath('//input[@aria-label=\"Search query\"]')\n",
    "search_input.send_keys('#ibmstock')"
   ]
  },
  {
   "cell_type": "code",
   "execution_count": 21,
   "id": "a70e4e07",
   "metadata": {},
   "outputs": [],
   "source": [
    "search_input.send_keys(Keys.RETURN)"
   ]
  },
  {
   "cell_type": "code",
   "execution_count": 22,
   "id": "3c6e2775",
   "metadata": {},
   "outputs": [],
   "source": [
    "driver.find_element_by_link_text('Latest').click()"
   ]
  },
  {
   "cell_type": "code",
   "execution_count": 28,
   "id": "222f58c6",
   "metadata": {},
   "outputs": [],
   "source": [
    "cards = driver.find_elements_by_xpath('//div[@data-testid=\"tweet\"]')"
   ]
  }
 ],
 "metadata": {
  "kernelspec": {
   "display_name": "Python 3 (ipykernel)",
   "language": "python",
   "name": "python3"
  },
  "language_info": {
   "codemirror_mode": {
    "name": "ipython",
    "version": 3
   },
   "file_extension": ".py",
   "mimetype": "text/x-python",
   "name": "python",
   "nbconvert_exporter": "python",
   "pygments_lexer": "ipython3",
   "version": "3.8.8"
  }
 },
 "nbformat": 4,
 "nbformat_minor": 5
}
